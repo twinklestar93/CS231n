{
 "cells": [
  {
   "cell_type": "markdown",
   "metadata": {},
   "source": [
    "# Softmax exercise\n",
    "\n",
    "*Complete and hand in this completed worksheet (including its outputs and any supporting code outside of the worksheet) with your assignment submission. For more details see the [assignments page](http://vision.stanford.edu/teaching/cs231n/assignments.html) on the course website.*\n",
    "\n",
    "This exercise is analogous to the SVM exercise. You will:\n",
    "\n",
    "- implement a fully-vectorized **loss function** for the Softmax classifier\n",
    "- implement the fully-vectorized expression for its **analytic gradient**\n",
    "- **check your implementation** with numerical gradient\n",
    "- use a validation set to **tune the learning rate and regularization** strength\n",
    "- **optimize** the loss function with **SGD**\n",
    "- **visualize** the final learned weights\n"
   ]
  },
  {
   "cell_type": "code",
   "execution_count": 1,
   "metadata": {
    "collapsed": false
   },
   "outputs": [],
   "source": [
    "import random\n",
    "import numpy as np\n",
    "from cs231n.data_utils import load_CIFAR10\n",
    "import matplotlib.pyplot as plt\n",
    "%matplotlib inline\n",
    "plt.rcParams['figure.figsize'] = (10.0, 8.0) # set default size of plots\n",
    "plt.rcParams['image.interpolation'] = 'nearest'\n",
    "plt.rcParams['image.cmap'] = 'gray'\n",
    "\n",
    "# for auto-reloading extenrnal modules\n",
    "# see http://stackoverflow.com/questions/1907993/autoreload-of-modules-in-ipython\n",
    "%load_ext autoreload\n",
    "%autoreload 2"
   ]
  },
  {
   "cell_type": "code",
   "execution_count": 2,
   "metadata": {
    "collapsed": false
   },
   "outputs": [
    {
     "name": "stdout",
     "output_type": "stream",
     "text": [
      "Train data shape:  (49000L, 3073L)\n",
      "Train labels shape:  (49000L,)\n",
      "Validation data shape:  (1000L, 3073L)\n",
      "Validation labels shape:  (1000L,)\n",
      "Test data shape:  (1000L, 3073L)\n",
      "Test labels shape:  (1000L,)\n",
      "dev data shape:  (500L, 3073L)\n",
      "dev labels shape:  (500L,)\n"
     ]
    }
   ],
   "source": [
    "def get_CIFAR10_data(num_training=49000, num_validation=1000, num_test=1000, num_dev=500):\n",
    "  \"\"\"\n",
    "  Load the CIFAR-10 dataset from disk and perform preprocessing to prepare\n",
    "  it for the linear classifier. These are the same steps as we used for the\n",
    "  SVM, but condensed to a single function.  \n",
    "  \"\"\"\n",
    "  # Load the raw CIFAR-10 data\n",
    "  cifar10_dir = 'cs231n/datasets/cifar-10-batches-py'\n",
    "  X_train, y_train, X_test, y_test = load_CIFAR10(cifar10_dir)\n",
    "  \n",
    "  # subsample the data\n",
    "  mask = range(num_training, num_training + num_validation)\n",
    "  X_val = X_train[mask]\n",
    "  y_val = y_train[mask]\n",
    "  mask = range(num_training)\n",
    "  X_train = X_train[mask]\n",
    "  y_train = y_train[mask]\n",
    "  mask = range(num_test)\n",
    "  X_test = X_test[mask]\n",
    "  y_test = y_test[mask]\n",
    "  mask = np.random.choice(num_training, num_dev, replace=False)\n",
    "  X_dev = X_train[mask]\n",
    "  y_dev = y_train[mask]\n",
    "  \n",
    "  # Preprocessing: reshape the image data into rows\n",
    "  X_train = np.reshape(X_train, (X_train.shape[0], -1))\n",
    "  X_val = np.reshape(X_val, (X_val.shape[0], -1))\n",
    "  X_test = np.reshape(X_test, (X_test.shape[0], -1))\n",
    "  X_dev = np.reshape(X_dev, (X_dev.shape[0], -1))\n",
    "  \n",
    "  # Normalize the data: subtract the mean image\n",
    "  mean_image = np.mean(X_train, axis = 0)\n",
    "  X_train -= mean_image\n",
    "  X_val -= mean_image\n",
    "  X_test -= mean_image\n",
    "  X_dev -= mean_image\n",
    "  \n",
    "  # add bias dimension and transform into columns\n",
    "  X_train = np.hstack([X_train, np.ones((X_train.shape[0], 1))])\n",
    "  X_val = np.hstack([X_val, np.ones((X_val.shape[0], 1))])\n",
    "  X_test = np.hstack([X_test, np.ones((X_test.shape[0], 1))])\n",
    "  X_dev = np.hstack([X_dev, np.ones((X_dev.shape[0], 1))])\n",
    "  \n",
    "  return X_train, y_train, X_val, y_val, X_test, y_test, X_dev, y_dev\n",
    "\n",
    "\n",
    "# Invoke the above function to get our data.\n",
    "X_train, y_train, X_val, y_val, X_test, y_test, X_dev, y_dev = get_CIFAR10_data()\n",
    "print 'Train data shape: ', X_train.shape\n",
    "print 'Train labels shape: ', y_train.shape\n",
    "print 'Validation data shape: ', X_val.shape\n",
    "print 'Validation labels shape: ', y_val.shape\n",
    "print 'Test data shape: ', X_test.shape\n",
    "print 'Test labels shape: ', y_test.shape\n",
    "print 'dev data shape: ', X_dev.shape\n",
    "print 'dev labels shape: ', y_dev.shape"
   ]
  },
  {
   "cell_type": "markdown",
   "metadata": {},
   "source": [
    "## Softmax Classifier\n",
    "\n",
    "Your code for this section will all be written inside **cs231n/classifiers/softmax.py**. \n"
   ]
  },
  {
   "cell_type": "code",
   "execution_count": 16,
   "metadata": {
    "collapsed": false
   },
   "outputs": [
    {
     "name": "stdout",
     "output_type": "stream",
     "text": [
      "loss: 2.326609\n",
      "sanity check: 2.302585\n"
     ]
    }
   ],
   "source": [
    "# First implement the naive softmax loss function with nested loops.\n",
    "# Open the file cs231n/classifiers/softmax.py and implement the\n",
    "# softmax_loss_naive function.\n",
    "\n",
    "from cs231n.classifiers.softmax import softmax_loss_naive\n",
    "import time\n",
    "\n",
    "# Generate a random softmax weight matrix and use it to compute the loss.\n",
    "W = np.random.randn(3073, 10) * 0.0001\n",
    "loss, grad = softmax_loss_naive(W, X_dev, y_dev, 0.0)\n",
    "\n",
    "# As a rough sanity check, our loss should be something close to -log(0.1).\n",
    "print 'loss: %f' % loss\n",
    "print 'sanity check: %f' % (-np.log(0.1))"
   ]
  },
  {
   "cell_type": "markdown",
   "metadata": {},
   "source": [
    "## Inline Question 1:\n",
    "Why do we expect our loss to be close to -log(0.1)? Explain briefly.**\n",
    "\n",
    "**Your answer:** *总共有10类，根据softmax分类器概率解释，每一类的概率大致W为0.1，对概率取-log()计算可以理解为最大似然估计。*\n"
   ]
  },
  {
   "cell_type": "code",
   "execution_count": 19,
   "metadata": {
    "collapsed": false
   },
   "outputs": [
    {
     "name": "stdout",
     "output_type": "stream",
     "text": [
      "numerical: 2.746564 analytic: 2.746564, relative error: 2.696565e-08\n",
      "numerical: 0.640386 analytic: 0.640386, relative error: 4.572394e-08\n",
      "numerical: -2.530173 analytic: -2.530173, relative error: 3.881771e-09\n",
      "numerical: -3.651531 analytic: -3.651532, relative error: 2.566709e-08\n",
      "numerical: -0.030023 analytic: -0.030023, relative error: 2.826916e-07\n",
      "numerical: -0.266995 analytic: -0.266995, relative error: 2.861732e-09\n",
      "numerical: -4.188179 analytic: -4.188179, relative error: 1.652210e-09\n",
      "numerical: -1.171323 analytic: -1.171323, relative error: 1.893906e-09\n",
      "numerical: -0.560690 analytic: -0.560691, relative error: 2.792533e-08\n",
      "numerical: 2.684817 analytic: 2.684817, relative error: 3.856615e-08\n",
      "numerical: 0.949650 analytic: 0.949650, relative error: 3.695300e-08\n",
      "numerical: -0.746342 analytic: -0.746342, relative error: 4.430401e-08\n",
      "numerical: 0.934478 analytic: 0.934478, relative error: 2.319677e-08\n",
      "numerical: 1.672280 analytic: 1.672279, relative error: 4.290381e-08\n",
      "numerical: -1.201891 analytic: -1.201891, relative error: 2.952146e-08\n",
      "numerical: 1.619957 analytic: 1.619957, relative error: 1.173461e-08\n",
      "numerical: 2.072212 analytic: 2.072212, relative error: 5.163023e-09\n",
      "numerical: 0.391856 analytic: 0.391856, relative error: 4.596660e-08\n",
      "numerical: 0.839151 analytic: 0.839151, relative error: 1.954156e-08\n",
      "numerical: 3.454999 analytic: 3.454999, relative error: 2.701826e-08\n"
     ]
    }
   ],
   "source": [
    "# Complete the implementation of softmax_loss_naive and implement a (naive)\n",
    "# version of the gradient that uses nested loops.\n",
    "loss, grad = softmax_loss_naive(W, X_dev, y_dev, 0.0)\n",
    "\n",
    "# As we did for the SVM, use numeric gradient checking as a debugging tool.\n",
    "# The numeric gradient should be close to the analytic gradient.\n",
    "from cs231n.gradient_check import grad_check_sparse\n",
    "f = lambda w: softmax_loss_naive(w, X_dev, y_dev, 0.0)[0]\n",
    "grad_numerical = grad_check_sparse(f, W, grad, 10)\n",
    "\n",
    "# similar to SVM case, do another gradient check with regularization\n",
    "loss, grad = softmax_loss_naive(W, X_dev, y_dev, 1e2)\n",
    "f = lambda w: softmax_loss_naive(w, X_dev, y_dev, 1e2)[0]\n",
    "grad_numerical = grad_check_sparse(f, W, grad, 10)"
   ]
  },
  {
   "cell_type": "code",
   "execution_count": 25,
   "metadata": {
    "collapsed": false
   },
   "outputs": [
    {
     "name": "stdout",
     "output_type": "stream",
     "text": [
      "naive loss: 2.326609e+00 computed in 0.142000s\n",
      "vectorized loss: 2.326609e+00 computed in 0.006000s\n",
      "Loss difference: 0.000000\n",
      "Gradient difference: 0.000000\n"
     ]
    }
   ],
   "source": [
    "# Now that we have a naive implementation of the softmax loss function and its gradient,\n",
    "# implement a vectorized version in softmax_loss_vectorized.\n",
    "# The two versions should compute the same results, but the vectorized version should be\n",
    "# much faster.\n",
    "tic = time.time()\n",
    "loss_naive, grad_naive = softmax_loss_naive(W, X_dev, y_dev, 0.00001)\n",
    "toc = time.time()\n",
    "print 'naive loss: %e computed in %fs' % (loss_naive, toc - tic)\n",
    "\n",
    "from cs231n.classifiers.softmax import softmax_loss_vectorized\n",
    "tic = time.time()\n",
    "loss_vectorized, grad_vectorized = softmax_loss_vectorized(W, X_dev, y_dev, 0.00001)\n",
    "toc = time.time()\n",
    "print 'vectorized loss: %e computed in %fs' % (loss_vectorized, toc - tic)\n",
    "\n",
    "# As we did for the SVM, we use the Frobenius norm to compare the two versions\n",
    "# of the gradient.\n",
    "grad_difference = np.linalg.norm(grad_naive - grad_vectorized, ord='fro')\n",
    "print 'Loss difference: %f' % np.abs(loss_naive - loss_vectorized)\n",
    "print 'Gradient difference: %f' % grad_difference"
   ]
  },
  {
   "cell_type": "code",
   "execution_count": 29,
   "metadata": {
    "collapsed": false
   },
   "outputs": [
    {
     "name": "stdout",
     "output_type": "stream",
     "text": [
      "iteration 0 / 1500: loss 770.941033\n",
      "iteration 100 / 1500: loss 767.673621\n",
      "iteration 200 / 1500: loss 765.573154\n",
      "iteration 300 / 1500: loss 764.309182\n",
      "iteration 400 / 1500: loss 762.873164\n",
      "iteration 500 / 1500: loss 761.914542\n",
      "iteration 600 / 1500: loss 761.120018\n",
      "iteration 700 / 1500: loss 760.131340\n",
      "iteration 800 / 1500: loss 759.753598\n",
      "iteration 900 / 1500: loss 758.642849\n",
      "iteration 1000 / 1500: loss 757.750270\n",
      "iteration 1100 / 1500: loss 756.990795\n",
      "iteration 1200 / 1500: loss 756.286821\n",
      "iteration 1300 / 1500: loss 755.750610\n",
      "iteration 1400 / 1500: loss 754.683270\n",
      "iteration 0 / 1500: loss 1548846.004681\n",
      "iteration 100 / 1500: loss 1545344.734379\n",
      "iteration 200 / 1500: loss 1542759.532294\n",
      "iteration 300 / 1500: loss 1540569.081353\n",
      "iteration 400 / 1500: loss 1538607.091349\n",
      "iteration 500 / 1500: loss 1536804.126547\n",
      "iteration 600 / 1500: loss 1535124.326638\n",
      "iteration 700 / 1500: loss 1533533.155150\n",
      "iteration 800 / 1500: loss 1531996.203906\n",
      "iteration 900 / 1500: loss 1530511.965934\n",
      "iteration 1000 / 1500: loss 1529074.636933\n",
      "iteration 1100 / 1500: loss 1527711.155865\n",
      "iteration 1200 / 1500: loss 1526342.178259\n",
      "iteration 1300 / 1500: loss 1525027.149927\n",
      "iteration 1400 / 1500: loss 1523744.025668\n",
      "iteration 0 / 1500: loss 781.520216\n",
      "iteration 100 / 1500: loss 773.724507\n",
      "iteration 200 / 1500: loss 769.395667\n",
      "iteration 300 / 1500: loss 765.647970\n",
      "iteration 400 / 1500: loss 762.518521\n",
      "iteration 500 / 1500: loss 759.415898\n",
      "iteration 600 / 1500: loss 756.949236\n",
      "iteration 700 / 1500: loss 754.685587\n",
      "iteration 800 / 1500: loss 752.405278\n",
      "iteration 900 / 1500: loss 750.000159\n",
      "iteration 1000 / 1500: loss 748.221365\n",
      "iteration 1100 / 1500: loss 746.154017\n",
      "iteration 1200 / 1500: loss 744.625637\n",
      "iteration 1300 / 1500: loss 742.696844\n",
      "iteration 1400 / 1500: loss 740.746144\n",
      "iteration 0 / 1500: loss 1557299.879449\n",
      "iteration 100 / 1500: loss 1545174.015324\n",
      "iteration 200 / 1500: loss 1537335.757908\n",
      "iteration 300 / 1500: loss 1530938.663934\n",
      "iteration 400 / 1500: loss 1525115.923601\n",
      "iteration 500 / 1500: loss 1519792.938892\n",
      "iteration 600 / 1500: loss 1514905.118107\n",
      "iteration 700 / 1500: loss 1510334.800885\n",
      "iteration 800 / 1500: loss 1506060.321998\n",
      "iteration 900 / 1500: loss 1502059.019179\n",
      "iteration 1000 / 1500: loss 1498252.178914\n",
      "iteration 1100 / 1500: loss 1494578.231750\n",
      "iteration 1200 / 1500: loss 1491134.625845\n",
      "iteration 1300 / 1500: loss 1487805.792732\n",
      "iteration 1400 / 1500: loss 1484563.035661\n",
      "lr 1.000000e-07 reg 5.000000e+04 train accuracy: 0.252041 val accuracy: 0.258000\n",
      "lr 1.000000e-07 reg 1.000000e+08 train accuracy: 0.250408 val accuracy: 0.264000\n",
      "lr 5.000000e-07 reg 5.000000e+04 train accuracy: 0.312837 val accuracy: 0.311000\n",
      "lr 5.000000e-07 reg 1.000000e+08 train accuracy: 0.316408 val accuracy: 0.309000\n",
      "best validation accuracy achieved during cross-validation: 0.311000\n"
     ]
    }
   ],
   "source": [
    "# Use the validation set to tune hyperparameters (regularization strength and\n",
    "# learning rate). You should experiment with different ranges for the learning\n",
    "# rates and regularization strengths; if you are careful you should be able to\n",
    "# get a classification accuracy of over 0.35 on the validation set.\n",
    "from cs231n.classifiers import Softmax\n",
    "results = {}\n",
    "best_val = -1\n",
    "best_softmax = None\n",
    "learning_rates = [1e-7, 5e-7]\n",
    "regularization_strengths = [5e4, 1e8]\n",
    "\n",
    "################################################################################\n",
    "# TODO:                                                                        #\n",
    "# Use the validation set to set the learning rate and regularization strength. #\n",
    "# This should be identical to the validation that you did for the SVM; save    #\n",
    "# the best trained softmax classifer in best_softmax.                          #\n",
    "################################################################################\n",
    "for lr in learning_rates:\n",
    "    for reg in regularization_strengths:\n",
    "        softmax = Softmax()\n",
    "        softmax.train(X_train, y_train, lr, reg, num_iters = 1500, verbose = True)\n",
    "        y_train_pred = softmax.predict(X_train)\n",
    "        y_train_acc = np.mean(y_train_pred == y_train)\n",
    "        y_val_pred = softmax.predict(X_val)\n",
    "        y_val_acc = np.mean(y_val_pred == y_val)\n",
    "        \n",
    "        results[(lr, reg)] = (y_train_acc, y_val_acc)\n",
    "        if (y_val_acc > best_val):\n",
    "            best_val = y_val_acc\n",
    "            best_softmax = softmax\n",
    "################################################################################\n",
    "#                              END OF YOUR CODE                                #\n",
    "################################################################################\n",
    "    \n",
    "# Print out results.\n",
    "for lr, reg in sorted(results):\n",
    "    train_accuracy, val_accuracy = results[(lr, reg)]\n",
    "    print 'lr %e reg %e train accuracy: %f val accuracy: %f' % (\n",
    "                lr, reg, train_accuracy, val_accuracy)\n",
    "    \n",
    "print 'best validation accuracy achieved during cross-validation: %f' % best_val"
   ]
  },
  {
   "cell_type": "code",
   "execution_count": 30,
   "metadata": {
    "collapsed": false
   },
   "outputs": [
    {
     "name": "stdout",
     "output_type": "stream",
     "text": [
      "softmax on raw pixels final test set accuracy: 0.296000\n"
     ]
    }
   ],
   "source": [
    "# evaluate on test set\n",
    "# Evaluate the best softmax on test set\n",
    "y_test_pred = best_softmax.predict(X_test)\n",
    "test_accuracy = np.mean(y_test == y_test_pred)\n",
    "print 'softmax on raw pixels final test set accuracy: %f' % (test_accuracy, )"
   ]
  },
  {
   "cell_type": "code",
   "execution_count": 31,
   "metadata": {
    "collapsed": false
   },
   "outputs": [
    {
     "data": {
      "image/png": "[encoded data removed]",
      "text/plain": [
       "<matplotlib.figure.Figure at 0x143c1390>"
      ]
     },
     "metadata": {},
     "output_type": "display_data"
    }
   ],
   "source": [
    "# Visualize the learned weights for each class\n",
    "w = best_softmax.W[:-1,:] # strip out the bias\n",
    "w = w.reshape(32, 32, 3, 10)\n",
    "\n",
    "w_min, w_max = np.min(w), np.max(w)\n",
    "\n",
    "classes = ['plane', 'car', 'bird', 'cat', 'deer', 'dog', 'frog', 'horse', 'ship', 'truck']\n",
    "for i in xrange(10):\n",
    "  plt.subplot(2, 5, i + 1)\n",
    "  \n",
    "  # Rescale the weights to be between 0 and 255\n",
    "  wimg = 255.0 * (w[:, :, :, i].squeeze() - w_min) / (w_max - w_min)\n",
    "  plt.imshow(wimg.astype('uint8'))\n",
    "  plt.axis('off')\n",
    "  plt.title(classes[i])"
   ]
  },
  {
   "cell_type": "code",
   "execution_count": null,
   "metadata": {
    "collapsed": true
   },
   "outputs": [],
   "source": []
  }
 ],
 "metadata": {
  "kernelspec": {
   "display_name": "Python 2",
   "language": "python",
   "name": "python2"
  },
  "language_info": {
   "codemirror_mode": {
    "name": "ipython",
    "version": 2
   },
   "file_extension": ".py",
   "mimetype": "text/x-python",
   "name": "python",
   "nbconvert_exporter": "python",
   "pygments_lexer": "ipython2",
   "version": "2.7.10"
  }
 },
 "nbformat": 4,
 "nbformat_minor": 0
}
